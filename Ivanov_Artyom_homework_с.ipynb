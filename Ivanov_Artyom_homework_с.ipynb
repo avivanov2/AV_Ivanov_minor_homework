{
 "cells": [
  {
   "cell_type": "markdown",
   "metadata": {
    "colab_type": "text",
    "id": "E7ME-ag0hoDA"
   },
   "source": [
    "# Домашняя работа"
   ]
  },
  {
   "cell_type": "markdown",
   "metadata": {
    "colab": {},
    "colab_type": "code",
    "id": "qxZMU8CBK664"
   },
   "source": [
    "**Буду решать задачу тематической классификации. Даны тексты, посвященные государственным и муниципальным службам. Формально задача заключается в том, чтобы по тексту определить к какому классу он принадлежит.**"
   ]
  },
  {
   "cell_type": "code",
   "execution_count": 3,
   "metadata": {
    "colab": {
     "base_uri": "https://localhost:8080/",
     "height": 204
    },
    "colab_type": "code",
    "id": "zD58K_wkmba_",
    "outputId": "ec624ba5-ce7a-4984-8ee6-44537a7880fd",
    "scrolled": true
   },
   "outputs": [
    {
     "data": {
      "text/html": [
       "<div>\n",
       "<style scoped>\n",
       "    .dataframe tbody tr th:only-of-type {\n",
       "        vertical-align: middle;\n",
       "    }\n",
       "\n",
       "    .dataframe tbody tr th {\n",
       "        vertical-align: top;\n",
       "    }\n",
       "\n",
       "    .dataframe thead th {\n",
       "        text-align: right;\n",
       "    }\n",
       "</style>\n",
       "<table border=\"1\" class=\"dataframe\">\n",
       "  <thead>\n",
       "    <tr style=\"text-align: right;\">\n",
       "      <th></th>\n",
       "      <th>text</th>\n",
       "      <th>source</th>\n",
       "    </tr>\n",
       "  </thead>\n",
       "  <tbody>\n",
       "    <tr>\n",
       "      <th>0</th>\n",
       "      <td>Начальник Главного оперативного управления Ген...</td>\n",
       "      <td>mil</td>\n",
       "    </tr>\n",
       "    <tr>\n",
       "      <th>1</th>\n",
       "      <td>Артиллерийские подразделения общевойскового об...</td>\n",
       "      <td>mil</td>\n",
       "    </tr>\n",
       "    <tr>\n",
       "      <th>2</th>\n",
       "      <td>Подразделения морской пехоты Каспийской флотил...</td>\n",
       "      <td>mil</td>\n",
       "    </tr>\n",
       "    <tr>\n",
       "      <th>3</th>\n",
       "      <td>Команды на всеармейских этапах конкурсов АрМИ-...</td>\n",
       "      <td>mil</td>\n",
       "    </tr>\n",
       "    <tr>\n",
       "      <th>4</th>\n",
       "      <td>На большом учебно-методическом командирском сб...</td>\n",
       "      <td>mil</td>\n",
       "    </tr>\n",
       "  </tbody>\n",
       "</table>\n",
       "</div>"
      ],
      "text/plain": [
       "                                                text source\n",
       "0  Начальник Главного оперативного управления Ген...    mil\n",
       "1  Артиллерийские подразделения общевойскового об...    mil\n",
       "2  Подразделения морской пехоты Каспийской флотил...    mil\n",
       "3  Команды на всеармейских этапах конкурсов АрМИ-...    mil\n",
       "4  На большом учебно-методическом командирском сб...    mil"
      ]
     },
     "execution_count": 3,
     "metadata": {
      "tags": []
     },
     "output_type": "execute_result"
    }
   ],
   "source": [
    "import pandas as pd\n",
    "df = pd.read_csv('texts_with_sources.csv', usecols = ['text', 'source'])\n",
    "df.head()"
   ]
  },
  {
   "cell_type": "markdown",
   "metadata": {
    "colab_type": "text",
    "id": "1x-ZNTcembbF"
   },
   "source": [
    "**Определим описательные статистики, а точнее количество текстов и количество классов, количество слов (без лемматизации и с лемматизацией) в коллекции,\n",
    "среднюю длину текста в словах и символа и 5 самых частых существительных в текстах каждого класса.**"
   ]
  },
  {
   "cell_type": "code",
   "execution_count": 0,
   "metadata": {
    "colab": {},
    "colab_type": "code",
    "id": "b4k-z36sja-E"
   },
   "outputs": [],
   "source": [
    "from collections import Counter\n",
    "import re\n",
    "import pymorphy2\n",
    "from nltk.corpus import stopwords\n",
    "import nltk\n",
    "import numpy as np\n",
    "from functools import reduce\n",
    "import random"
   ]
  },
  {
   "cell_type": "code",
   "execution_count": 0,
   "metadata": {
    "colab": {},
    "colab_type": "code",
    "id": "VY2f6qpgxZNL"
   },
   "outputs": [],
   "source": [
    "df = df.dropna()"
   ]
  },
  {
   "cell_type": "code",
   "execution_count": 0,
   "metadata": {
    "colab": {},
    "colab_type": "code",
    "id": "fCnR0ruzkOuK"
   },
   "outputs": [],
   "source": [
    "def create_freq(collection):\n",
    "  result = Counter()\n",
    "  regex = re.compile(\"[А-Яа-я:=!\\)\\()A-z\\_\\%/|]+\")\n",
    "  for text in collection:\n",
    "      result.update(\" \".join(regex.findall(re.sub('<br>', ' ', text))).lower().strip().split())\n",
    "  return result\n",
    "\n",
    "def create_freq_lem(words, pos = 'all'):\n",
    "  morph = pymorphy2.MorphAnalyzer()\n",
    "  result = Counter()\n",
    "  for word, cnt in words.items():\n",
    "    if pos != 'all':\n",
    "      parsed = morph.parse(word)\n",
    "      if pos in parsed[0].tag:\n",
    "        result.update({parsed[0].normal_form:cnt})\n",
    "    else:\n",
    "      result.update({morph.parse(word)[0].normal_form:cnt})\n",
    "  return result\n",
    "\n",
    "words = create_freq(df['text'])\n",
    "words_lem = create_freq_lem(words)\n",
    "\n",
    "words_classes = [[source, create_freq_lem(create_freq(df[df.source == source].text), 'NOUN')] for source in df.source.drop_duplicates().values]"
   ]
  },
  {
   "cell_type": "code",
   "execution_count": 10,
   "metadata": {
    "colab": {
     "base_uri": "https://localhost:8080/",
     "height": 476
    },
    "colab_type": "code",
    "id": "NsTmHugcHFMM",
    "outputId": "01a8d7ab-2769-48d7-c78d-4cf9e9691af4"
   },
   "outputs": [
    {
     "name": "stdout",
     "output_type": "stream",
     "text": [
      "Число текстов: 11526\n",
      "Число классов: 4\n",
      "Число слов в коллекции до лемматизации: 80944\n",
      "Число слов в коллекции после лемматизации: 36713\n",
      "Средняя длина текста: 85.39059517612354 слов\n",
      "Средняя длина текста: 583.0526635432934 символa\n",
      "5 самых частых существительных в текстах каждого паблика:\n"
     ]
    },
    {
     "data": {
      "text/plain": [
       "[{'mil': [('минобороны', 1822),\n",
       "   ('военный', 1371),\n",
       "   ('год', 1348),\n",
       "   ('россия', 1316),\n",
       "   ('оборона', 916)]},\n",
       " {'mchsgov': [('мчс', 3578),\n",
       "   ('мчсроссия', 1879),\n",
       "   ('россия', 1702),\n",
       "   ('спасатель', 711),\n",
       "   ('год', 561)]},\n",
       " {'russianpost': [('почта', 3262),\n",
       "   ('россия', 2631),\n",
       "   ('год', 2105),\n",
       "   ('отделение', 1605),\n",
       "   ('письмо', 1492)]},\n",
       " {'mospolice': [('мвд', 5948),\n",
       "   ('полиция', 5927),\n",
       "   ('год', 5324),\n",
       "   ('москва', 4261),\n",
       "   ('россия', 3995)]}]"
      ]
     },
     "execution_count": 10,
     "metadata": {
      "tags": []
     },
     "output_type": "execute_result"
    }
   ],
   "source": [
    "print('Число текстов:', df.shape[0])\n",
    "print('Число классов:', len(df.source.drop_duplicates()))\n",
    "print('Число слов в коллекции до лемматизации:', len(words.keys()))\n",
    "print('Число слов в коллекции после лемматизации:', len(words_lem.keys()))\n",
    "print('Средняя длина текста:', sum([len(re.sub('<br>', ' ', text).strip().split()) for text in df['text']])/df.shape[0], 'слов')\n",
    "print('Средняя длина текста:', sum([reduce(lambda x,y: x+len(y), re.sub('<br>', ' ', text).strip().split(), 0) for text in df['text']])/df.shape[0], 'символa')\n",
    "print('5 самых частых существительных в текстах каждого паблика:')\n",
    "[{source[0]:source[1].most_common(5)} for source in words_classes]"
   ]
  },
  {
   "cell_type": "markdown",
   "metadata": {
    "colab_type": "text",
    "id": "c7hDouNn-7EP"
   },
   "source": [
    "### Полученные слова выглядят довольно правдоподобно. Большинство слов действительно характеризуют свой класс, но есть и несколько общих слов (год, Россия и т.д)"
   ]
  },
  {
   "cell_type": "markdown",
   "metadata": {
    "colab_type": "text",
    "id": "Dfqyy6LUmbbW"
   },
   "source": [
    "### Теперь попробуем классифицировать тексты следующим образом. Если встречается слово $w$, то текст относится к паблику $c$.\n",
    "### И посмотрим на соответсвующие метрики качества классификации."
   ]
  },
  {
   "cell_type": "markdown",
   "metadata": {
    "colab_type": "text",
    "id": "xHumKrdYA1HQ"
   },
   "source": [
    "### Для классификации по правилам выбираем наиболее часто встречающиеся слова для каждого класса, исключая общие слова"
   ]
  },
  {
   "cell_type": "code",
   "execution_count": 0,
   "metadata": {
    "colab": {},
    "colab_type": "code",
    "id": "08oVWZZaCPGn"
   },
   "outputs": [],
   "source": [
    "def dummy_predict(text):\n",
    "  regex = re.compile(\"[А-Яа-я:=!\\)\\()A-z\\_\\%/|]+\")\n",
    "  morph = pymorphy2.MorphAnalyzer()\n",
    "  \n",
    "  words_mil = ['минобороны', 'военный', 'оборона', 'учение', 'сила', 'флот', 'корабль']\n",
    "  words_mchs = ['мчс', 'мчсроссия', 'спасатель', 'помощь', 'пожар']\n",
    "  words_post = ['почта', 'отделение', 'письмо', 'открытка', 'марка', 'почтароссия', 'отправление']\n",
    "  words_police = ['мвд', 'полиция', 'сотрудник', 'петровка', 'увд', 'служба', 'дело']\n",
    "  \n",
    "  words = \" \".join(regex.findall(text)).lower().strip().split()\n",
    "  words_lem = set([morph.parse(word)[0].normal_form for word in words])\n",
    "  \n",
    "  if any(word in words_mil for word in words_lem):\n",
    "    return 'mil'\n",
    "  \n",
    "  elif any(word in words_mchs for word in words_lem):\n",
    "    return 'mchsgov'\n",
    "  \n",
    "  elif any(word in words_post for word in words_lem):\n",
    "    return 'russianpost'\n",
    "  \n",
    "  elif any(word in words_police for word in words_lem):\n",
    "    return 'mospolice'\n",
    "  \n",
    "  else:\n",
    "    return random.choice(['mil', 'mchsgov', 'russianpost', 'mospolice'])"
   ]
  },
  {
   "cell_type": "code",
   "execution_count": 0,
   "metadata": {
    "colab": {},
    "colab_type": "code",
    "id": "JSeZjuioOPuq"
   },
   "outputs": [],
   "source": [
    "y_true = df.source.values\n",
    "y_pred = [dummy_predict(text) for text in df.text.values]"
   ]
  },
  {
   "cell_type": "code",
   "execution_count": 0,
   "metadata": {
    "colab": {},
    "colab_type": "code",
    "id": "RwRdO4J__uNf"
   },
   "outputs": [],
   "source": [
    "from sklearn.metrics import accuracy_score, precision_score, recall_score, f1_score"
   ]
  },
  {
   "cell_type": "code",
   "execution_count": 14,
   "metadata": {
    "colab": {
     "base_uri": "https://localhost:8080/",
     "height": 85
    },
    "colab_type": "code",
    "id": "HSK2OKcSPcGk",
    "outputId": "06d45777-03b8-40f9-aee0-0e696e9fd1d5"
   },
   "outputs": [
    {
     "name": "stdout",
     "output_type": "stream",
     "text": [
      "Точность: 0.8237741209961454\n",
      "Полнота: 0.8199070624052849\n",
      "f-мера: 0.8208588660763408\n",
      "Доля правильных ответов: 0.8208398403609232\n"
     ]
    }
   ],
   "source": [
    "print('Точность:', precision_score(y_true, y_pred, average='macro'))\n",
    "print('Полнота:', recall_score(y_true, y_pred, average='macro'))\n",
    "print('f-мера:', f1_score(y_true, y_pred, average='macro'))\n",
    "print('Доля правильных ответов:', accuracy_score(y_true, y_pred));"
   ]
  },
  {
   "cell_type": "markdown",
   "metadata": {
    "colab_type": "text",
    "id": "mAhu2UyYvD4c"
   },
   "source": [
    "Идеального классификатора не получилось, но качество довольно неплохое"
   ]
  },
  {
   "cell_type": "code",
   "execution_count": 0,
   "metadata": {
    "colab": {},
    "colab_type": "code",
    "id": "afV8EMahvesS"
   },
   "outputs": [],
   "source": [
    "from sklearn.model_selection import train_test_split\n",
    "\n",
    "X_train, X_test, y_train, y_test = train_test_split(df.text.values, df.source.values, test_size=0.3, random_state=42)"
   ]
  },
  {
   "cell_type": "markdown",
   "metadata": {
    "colab_type": "text",
    "id": "22tJKQnaOjie"
   },
   "source": [
    "### Теперь попробуем использовать sklearn.pipeline для классификации текстов. Используем векторизацию, $tf-idf$ взвешивание и классификатор AdaBoost. Затем посмотрим на метрики качетсва классификации и матрицу ошибок.\n",
    "\n",
    "\n",
    " "
   ]
  },
  {
   "cell_type": "code",
   "execution_count": 0,
   "metadata": {
    "colab": {},
    "colab_type": "code",
    "id": "QiR8Oqs6u6X6"
   },
   "outputs": [],
   "source": [
    "from sklearn.pipeline import Pipeline\n",
    "from sklearn.feature_extraction.text import CountVectorizer\n",
    "from sklearn.feature_extraction.text import TfidfTransformer\n",
    "from sklearn.ensemble import AdaBoostClassifier\n",
    "\n",
    "count_vect = CountVectorizer()\n",
    "tf_transformer = TfidfTransformer()\n",
    "AdaBoost = AdaBoostClassifier()\n",
    "\n",
    "pipeline = Pipeline([('vect', count_vect), ('tfidf', tf_transformer), ('boost', AdaBoost)])\n",
    "\n",
    "pipeline.fit(X_train, y_train)\n",
    "y_pred = pipeline.predict(X_test)"
   ]
  },
  {
   "cell_type": "code",
   "execution_count": 17,
   "metadata": {
    "colab": {
     "base_uri": "https://localhost:8080/",
     "height": 85
    },
    "colab_type": "code",
    "id": "4kajvzXE0zRk",
    "outputId": "a52da7ec-e90f-4024-bd99-56c83f170d70"
   },
   "outputs": [
    {
     "name": "stdout",
     "output_type": "stream",
     "text": [
      "Точность: 0.8452366610560643\n",
      "Полнота: 0.8382585761416421\n",
      "f-мера: 0.8395470833510258\n",
      "Доля правильных ответов: 0.8383458646616542\n"
     ]
    }
   ],
   "source": [
    "print('Точность:', precision_score(y_test, y_pred, average='macro'))\n",
    "print('Полнота:', recall_score(y_test, y_pred, average='macro'))\n",
    "print('f-мера:', f1_score(y_test, y_pred, average='macro'))\n",
    "print('Доля правильных ответов:', accuracy_score(y_test, y_pred));"
   ]
  },
  {
   "cell_type": "markdown",
   "metadata": {
    "colab_type": "text",
    "id": "ZAEViEl346ID"
   },
   "source": [
    "### Видно, что качество немного улучшилось по стравнению с наивной моделью"
   ]
  },
  {
   "cell_type": "code",
   "execution_count": 0,
   "metadata": {
    "colab": {},
    "colab_type": "code",
    "id": "8LQY7DWS_jiW"
   },
   "outputs": [],
   "source": [
    "from sklearn.metrics import confusion_matrix\n",
    "from sklearn.utils.multiclass import unique_labels\n",
    "import matplotlib.pyplot as plt\n",
    "\n",
    "#https://scikit-learn.org/stable/auto_examples/model_selection/plot_confusion_matrix.html#sphx-glr-auto-examples-model-selection-plot-confusion-matrix-py\n",
    "def plot_confusion_matrix(y_true, y_pred, classes,\n",
    "                          normalize=False,\n",
    "                          title=None,\n",
    "                          cmap=plt.cm.Blues):\n",
    "   \n",
    "    if not title:\n",
    "        if normalize:\n",
    "            title = 'Normalized confusion matrix'\n",
    "        else:\n",
    "            title = 'Confusion matrix, without normalization'\n",
    "\n",
    "  \n",
    "    cm = confusion_matrix(y_true, y_pred)\n",
    "    if normalize:\n",
    "        cm = cm.astype('float') / cm.sum(axis=1)[:, np.newaxis]\n",
    "        print(\"Normalized confusion matrix\")\n",
    "    else:\n",
    "        print('Confusion matrix, without normalization')\n",
    "\n",
    "    fig, ax = plt.subplots()\n",
    "    im = ax.imshow(cm, interpolation='nearest', cmap=cmap)\n",
    "    ax.figure.colorbar(im, ax=ax)\n",
    "\n",
    "    ax.set(xticks=np.arange(cm.shape[1]),\n",
    "           yticks=np.arange(cm.shape[0]),\n",
    "           xticklabels=classes, yticklabels=classes,\n",
    "           title=title,\n",
    "           ylabel='True label',\n",
    "           xlabel='Predicted label')\n",
    "\n",
    "    \n",
    "    plt.setp(ax.get_xticklabels(), rotation=45, ha=\"right\",\n",
    "             rotation_mode=\"anchor\")\n",
    "\n",
    "   \n",
    "    fmt = '.2f' if normalize else 'd'\n",
    "    thresh = cm.max() / 2.\n",
    "    for i in range(cm.shape[0]):\n",
    "        for j in range(cm.shape[1]):\n",
    "            ax.text(j, i, format(cm[i, j], fmt),\n",
    "                    ha=\"center\", va=\"center\",\n",
    "                    color=\"white\" if cm[i, j] > thresh else \"black\")\n",
    "    fig.tight_layout()\n",
    "    return ax"
   ]
  },
  {
   "cell_type": "code",
   "execution_count": 21,
   "metadata": {
    "colab": {
     "base_uri": "https://localhost:8080/",
     "height": 314
    },
    "colab_type": "code",
    "id": "zu21096P2DoX",
    "outputId": "a7440fa4-a09f-45d5-e8c3-64845db8a80d"
   },
   "outputs": [
    {
     "name": "stdout",
     "output_type": "stream",
     "text": [
      "Confusion matrix, without normalization\n"
     ]
    },
    {
     "data": {
      "image/png": "[encoded data removed]",
      "text/plain": [
       "<Figure size 432x288 with 2 Axes>"
      ]
     },
     "metadata": {
      "tags": []
     },
     "output_type": "display_data"
    }
   ],
   "source": [
    "plot_confusion_matrix(y_test, y_pred, classes=['mil', 'mchsgov', 'russianpost', 'mospolice'], normalize=False,\n",
    "                      title='Normalized confusion matrix');\n",
    "\n",
    "plt.show()"
   ]
  },
  {
   "cell_type": "markdown",
   "metadata": {
    "colab_type": "text",
    "id": "a3lqWmVl44w-"
   },
   "source": [
    "### Из матрицы видно, что чаще всего классификатор ошибается при разделении постов МЧС и полиции"
   ]
  },
  {
   "cell_type": "markdown",
   "metadata": {
    "colab_type": "text",
    "id": "Xl-bfmQJ0iqB"
   },
   "source": [
    "### Реализуем модель Kim et al (2014) для решения задачи классификации с помощью CNN. И оценим её.\n",
    "### Ссылка: Kim Y. Convolutional Neural Networks for Sentence Classification. 2014"
   ]
  },
  {
   "cell_type": "code",
   "execution_count": 22,
   "metadata": {
    "colab": {
     "base_uri": "https://localhost:8080/",
     "height": 34
    },
    "colab_type": "code",
    "id": "O3cK-aNeYnA5",
    "outputId": "a9698eb5-70f0-4eae-a71e-d27778198247"
   },
   "outputs": [
    {
     "name": "stderr",
     "output_type": "stream",
     "text": [
      "Using TensorFlow backend.\n"
     ]
    }
   ],
   "source": [
    "from keras.preprocessing.text import Tokenizer\n",
    "from keras.preprocessing.sequence import pad_sequences\n",
    "from keras.utils import np_utils\n",
    "from sklearn.preprocessing import LabelBinarizer, LabelEncoder\n",
    "\n",
    "from keras.layers import Embedding, Input, Conv1D, MaxPooling1D, Flatten, Dense, Dropout\n",
    "from keras.models import Model, Sequential"
   ]
  },
  {
   "cell_type": "code",
   "execution_count": 0,
   "metadata": {
    "colab": {},
    "colab_type": "code",
    "id": "JwW0_BC6WfNN"
   },
   "outputs": [],
   "source": [
    "VOCABULARY_SIZE = 250000\n",
    "EMBEDDING_DIM = 300\n",
    "MAX_FEATURES = 5000\n",
    "batch_size = 32\n",
    "\n",
    "nb_epoch = 10"
   ]
  },
  {
   "cell_type": "code",
   "execution_count": 0,
   "metadata": {
    "colab": {},
    "colab_type": "code",
    "id": "tJvtpjuZZll0"
   },
   "outputs": [],
   "source": [
    "X_train, X_test, y_train, y_test = train_test_split(df.text.values, df.source.values, test_size=0.3, random_state=42)"
   ]
  },
  {
   "cell_type": "code",
   "execution_count": 0,
   "metadata": {
    "colab": {},
    "colab_type": "code",
    "id": "0EBbi_rHZRZx"
   },
   "outputs": [],
   "source": [
    "tokenizer = Tokenizer(num_words=MAX_FEATURES)\n",
    "tokenizer.fit_on_texts(X_train)"
   ]
  },
  {
   "cell_type": "code",
   "execution_count": 0,
   "metadata": {
    "colab": {},
    "colab_type": "code",
    "id": "pQlrGCe3Zb14"
   },
   "outputs": [],
   "source": [
    "sequences = tokenizer.texts_to_sequences(X_train)\n",
    "X_train = tokenizer.sequences_to_matrix(sequences, mode='count')\n",
    "sequences = tokenizer.texts_to_sequences(X_test)\n",
    "X_test = tokenizer.sequences_to_matrix(sequences, mode='count')"
   ]
  },
  {
   "cell_type": "code",
   "execution_count": 0,
   "metadata": {
    "colab": {},
    "colab_type": "code",
    "id": "zLZKdpmLY8gr"
   },
   "outputs": [],
   "source": [
    "le = LabelEncoder()\n",
    "le.fit(df.source.drop_duplicates().values)\n",
    "y_train = np_utils.to_categorical(le.transform(y_train), 4)\n",
    "y_test = le.transform(y_test)"
   ]
  },
  {
   "cell_type": "code",
   "execution_count": 28,
   "metadata": {
    "colab": {
     "base_uri": "https://localhost:8080/",
     "height": 564
    },
    "colab_type": "code",
    "id": "V_fCZEjmR4ut",
    "outputId": "884f70de-bb9e-4876-ce0e-cdaedde6e493"
   },
   "outputs": [
    {
     "name": "stdout",
     "output_type": "stream",
     "text": [
      "WARNING:tensorflow:From /usr/local/lib/python3.6/dist-packages/tensorflow/python/framework/op_def_library.py:263: colocate_with (from tensorflow.python.framework.ops) is deprecated and will be removed in a future version.\n",
      "Instructions for updating:\n",
      "Colocations handled automatically by placer.\n",
      "WARNING:tensorflow:From /usr/local/lib/python3.6/dist-packages/keras/backend/tensorflow_backend.py:3445: calling dropout (from tensorflow.python.ops.nn_ops) with keep_prob is deprecated and will be removed in a future version.\n",
      "Instructions for updating:\n",
      "Please use `rate` instead of `keep_prob`. Rate should be set to `rate = 1 - keep_prob`.\n",
      "WARNING:tensorflow:From /usr/local/lib/python3.6/dist-packages/tensorflow/python/ops/math_ops.py:3066: to_int32 (from tensorflow.python.ops.math_ops) is deprecated and will be removed in a future version.\n",
      "Instructions for updating:\n",
      "Use tf.cast instead.\n",
      "Train on 7261 samples, validate on 807 samples\n",
      "Epoch 1/10\n",
      "7261/7261 [==============================] - 35s 5ms/step - loss: 0.3384 - acc: 0.8916 - val_loss: 0.1513 - val_acc: 0.9678\n",
      "Epoch 2/10\n",
      "7261/7261 [==============================] - 28s 4ms/step - loss: 0.0738 - acc: 0.9820 - val_loss: 0.1609 - val_acc: 0.9703\n",
      "Epoch 3/10\n",
      "7261/7261 [==============================] - 29s 4ms/step - loss: 0.0393 - acc: 0.9901 - val_loss: 0.1858 - val_acc: 0.9678\n",
      "Epoch 4/10\n",
      "7261/7261 [==============================] - 29s 4ms/step - loss: 0.0248 - acc: 0.9938 - val_loss: 0.1970 - val_acc: 0.9665\n",
      "Epoch 5/10\n",
      "7261/7261 [==============================] - 28s 4ms/step - loss: 0.0206 - acc: 0.9948 - val_loss: 0.2025 - val_acc: 0.9665\n",
      "Epoch 6/10\n",
      "7261/7261 [==============================] - 28s 4ms/step - loss: 0.0185 - acc: 0.9959 - val_loss: 0.2284 - val_acc: 0.9641\n",
      "Epoch 7/10\n",
      "7261/7261 [==============================] - 28s 4ms/step - loss: 0.0142 - acc: 0.9974 - val_loss: 0.2680 - val_acc: 0.9579\n",
      "Epoch 8/10\n",
      "7261/7261 [==============================] - 28s 4ms/step - loss: 0.0214 - acc: 0.9941 - val_loss: 0.2533 - val_acc: 0.9665\n",
      "Epoch 9/10\n",
      "7261/7261 [==============================] - 28s 4ms/step - loss: 0.0215 - acc: 0.9946 - val_loss: 0.2399 - val_acc: 0.9641\n",
      "Epoch 10/10\n",
      "7261/7261 [==============================] - 28s 4ms/step - loss: 0.0161 - acc: 0.9957 - val_loss: 0.3046 - val_acc: 0.9591\n"
     ]
    },
    {
     "data": {
      "text/plain": [
       "<keras.callbacks.History at 0x7fa98bb27d68>"
      ]
     },
     "execution_count": 28,
     "metadata": {
      "tags": []
     },
     "output_type": "execute_result"
    }
   ],
   "source": [
    "model = Sequential()\n",
    "model.add(Embedding(VOCABULARY_SIZE,\n",
    "                    EMBEDDING_DIM,\n",
    "                    input_length=MAX_FEATURES,\n",
    "                    trainable=True))\n",
    "model.add(Conv1D(128, 5, activation='relu'))\n",
    "model.add(MaxPooling1D())\n",
    "model.add(Dropout(0.3))\n",
    "model.add(Flatten())\n",
    "model.add(Dense(4, activation = 'softmax'))\n",
    "model.compile(optimizer='adam', loss='binary_crossentropy', metrics=['acc'])\n",
    "model.compile(loss='categorical_crossentropy', optimizer='adam', metrics=['accuracy'])\n",
    "model.fit(X_train, y_train, epochs=nb_epoch, batch_size=batch_size,  validation_split=0.1)"
   ]
  },
  {
   "cell_type": "code",
   "execution_count": 0,
   "metadata": {
    "colab": {},
    "colab_type": "code",
    "id": "Jtok1RitWgGR"
   },
   "outputs": [],
   "source": [
    "y_pred = model.predict_classes(X_test)\n",
    "y_pred = le.inverse_transform(y_pred)\n",
    "y_test = le.inverse_transform(y_test)"
   ]
  },
  {
   "cell_type": "code",
   "execution_count": 30,
   "metadata": {
    "colab": {
     "base_uri": "https://localhost:8080/",
     "height": 85
    },
    "colab_type": "code",
    "id": "McCrqKS_edPw",
    "outputId": "817f6e9e-50db-4eb9-c66b-0b4a428b335e"
   },
   "outputs": [
    {
     "name": "stdout",
     "output_type": "stream",
     "text": [
      "Точность: 0.9596288475212783\n",
      "Полнота: 0.9593898362492401\n",
      "f-мера: 0.9593993700034401\n",
      "Доля правильных ответов: 0.9600925390399074\n"
     ]
    }
   ],
   "source": [
    "print('Точность:', precision_score(y_test, y_pred, average='macro'))\n",
    "print('Полнота:', recall_score(y_test, y_pred, average='macro'))\n",
    "print('f-мера:', f1_score(y_test, y_pred, average='macro'))\n",
    "print('Доля правильных ответов:', accuracy_score(y_test, y_pred));"
   ]
  },
  {
   "cell_type": "code",
   "execution_count": 31,
   "metadata": {
    "colab": {
     "base_uri": "https://localhost:8080/",
     "height": 314
    },
    "colab_type": "code",
    "id": "asJQ9f9hegRn",
    "outputId": "2d91ca68-1c4e-4c98-f7a8-8a4fea647386"
   },
   "outputs": [
    {
     "name": "stdout",
     "output_type": "stream",
     "text": [
      "Confusion matrix, without normalization\n"
     ]
    },
    {
     "data": {
      "image/png": "[encoded data removed]",
      "text/plain": [
       "<Figure size 432x288 with 2 Axes>"
      ]
     },
     "metadata": {
      "tags": []
     },
     "output_type": "display_data"
    }
   ],
   "source": [
    "plot_confusion_matrix(y_test, y_pred, classes=['mil', 'mchsgov', 'russianpost', 'mospolice'], normalize=False,\n",
    "                      title='Confusion matrix');\n",
    "plt.show()"
   ]
  },
  {
   "cell_type": "markdown",
   "metadata": {
    "colab_type": "text",
    "id": "_1ogWhvfFIdM"
   },
   "source": [
    "### Путаем военных с полицией и довольно часто ошибаемся в определении полиции вцелом"
   ]
  },
  {
   "cell_type": "markdown",
   "metadata": {
    "colab_type": "text",
    "id": "4otR9whP0iqD"
   },
   "source": [
    "### Используем  RNN (BLSTM с какими-то признаками и пулинг поверх) для решения задачи текстовой классификации. Оценим результат."
   ]
  },
  {
   "cell_type": "code",
   "execution_count": 0,
   "metadata": {
    "colab": {},
    "colab_type": "code",
    "id": "a0-R6SlMMZVm"
   },
   "outputs": [],
   "source": [
    "X_train, X_test, y_train, Y_test = train_test_split(df.text.values, df.source.values, test_size=0.3)"
   ]
  },
  {
   "cell_type": "code",
   "execution_count": 0,
   "metadata": {
    "colab": {},
    "colab_type": "code",
    "id": "ZboTZl14MUMU"
   },
   "outputs": [],
   "source": [
    "from keras.preprocessing import sequence\n",
    "\n",
    "TEXT_LENGTH = 400\n",
    "tokenizer = Tokenizer(num_words=500)\n",
    "tokenizer.fit_on_texts(X_train)\n",
    "\n",
    "sequences = tokenizer.texts_to_sequences(X_train)\n",
    "X_train = tokenizer.sequences_to_matrix(sequences, mode='count')\n",
    "sequences = tokenizer.texts_to_sequences(X_test)\n",
    "X_test = tokenizer.sequences_to_matrix(sequences, mode='count')"
   ]
  },
  {
   "cell_type": "code",
   "execution_count": 34,
   "metadata": {
    "colab": {
     "base_uri": "https://localhost:8080/",
     "height": 34
    },
    "colab_type": "code",
    "id": "m2U_Hu5BSQMP",
    "outputId": "dc9458c4-f88a-4f0b-9169-7693814c2e6e"
   },
   "outputs": [
    {
     "data": {
      "text/plain": [
       "((8068, 500), (3458, 500))"
      ]
     },
     "execution_count": 34,
     "metadata": {
      "tags": []
     },
     "output_type": "execute_result"
    }
   ],
   "source": [
    "X_train.shape, X_test.shape"
   ]
  },
  {
   "cell_type": "code",
   "execution_count": 0,
   "metadata": {
    "colab": {},
    "colab_type": "code",
    "id": "00Lfdm7BNxkr"
   },
   "outputs": [],
   "source": [
    "le = LabelEncoder()\n",
    "le.fit(df.source.drop_duplicates().values)\n",
    "y_train = np_utils.to_categorical(le.transform(y_train), 4)\n",
    "y_test = np_utils.to_categorical(le.transform(Y_test), 4)"
   ]
  },
  {
   "cell_type": "code",
   "execution_count": 0,
   "metadata": {
    "colab": {},
    "colab_type": "code",
    "id": "bQVJGBT3NJdu"
   },
   "outputs": [],
   "source": [
    "max_length = max([len(el) for el in X_train])\n",
    "top_words = 1000"
   ]
  },
  {
   "cell_type": "code",
   "execution_count": 37,
   "metadata": {
    "colab": {
     "base_uri": "https://localhost:8080/",
     "height": 459
    },
    "colab_type": "code",
    "id": "xeq2vMNsHf7c",
    "outputId": "e0ac0b8c-396a-4252-b78f-0f396ada0c86"
   },
   "outputs": [
    {
     "name": "stdout",
     "output_type": "stream",
     "text": [
      "_________________________________________________________________\n",
      "Layer (type)                 Output Shape              Param #   \n",
      "=================================================================\n",
      "embedding_2 (Embedding)      (None, 500, 128)          128000    \n",
      "_________________________________________________________________\n",
      "conv1d_2 (Conv1D)            (None, 500, 32)           12320     \n",
      "_________________________________________________________________\n",
      "max_pooling1d_2 (MaxPooling1 (None, 250, 32)           0         \n",
      "_________________________________________________________________\n",
      "lstm_1 (LSTM)                (None, 100)               53200     \n",
      "_________________________________________________________________\n",
      "dense_2 (Dense)              (None, 4)                 404       \n",
      "=================================================================\n",
      "Total params: 193,924\n",
      "Trainable params: 193,924\n",
      "Non-trainable params: 0\n",
      "_________________________________________________________________\n",
      "None\n",
      "Train on 8068 samples, validate on 3458 samples\n",
      "Epoch 1/3\n",
      "8068/8068 [==============================] - 52s 6ms/step - loss: 0.5704 - acc: 0.7469 - val_loss: 0.5558 - val_acc: 0.7500\n",
      "Epoch 2/3\n",
      "8068/8068 [==============================] - 52s 6ms/step - loss: 0.5455 - acc: 0.7480 - val_loss: 0.5215 - val_acc: 0.7501\n",
      "Epoch 3/3\n",
      "8068/8068 [==============================] - 51s 6ms/step - loss: 0.5273 - acc: 0.7502 - val_loss: 0.5176 - val_acc: 0.7519\n"
     ]
    },
    {
     "data": {
      "text/plain": [
       "<keras.callbacks.History at 0x7fa98bca3780>"
      ]
     },
     "execution_count": 37,
     "metadata": {
      "tags": []
     },
     "output_type": "execute_result"
    }
   ],
   "source": [
    "from keras.layers import LSTM\n",
    "\n",
    "embedding_vecor_length = 128\n",
    "model = Sequential()\n",
    "model.add(Embedding(top_words, embedding_vecor_length, input_length=max_length))\n",
    "model.add(Conv1D(filters=32, kernel_size=3, padding='same', activation='relu'))\n",
    "model.add(MaxPooling1D(pool_size=2))\n",
    "model.add(LSTM(100))\n",
    "model.add(Dense(4, activation='sigmoid'))\n",
    "model.compile(loss='binary_crossentropy', optimizer='adam', metrics=['accuracy'])\n",
    "print(model.summary())\n",
    "model.fit(X_train, y_train, validation_data=(X_test, y_test), epochs=3, batch_size=64)"
   ]
  },
  {
   "cell_type": "code",
   "execution_count": 0,
   "metadata": {
    "colab": {},
    "colab_type": "code",
    "id": "ROMirV2hXnzx"
   },
   "outputs": [],
   "source": [
    "y_pred = model.predict_classes(X_test)\n",
    "y_pred = le.inverse_transform(y_pred)"
   ]
  },
  {
   "cell_type": "code",
   "execution_count": 39,
   "metadata": {
    "colab": {
     "base_uri": "https://localhost:8080/",
     "height": 85
    },
    "colab_type": "code",
    "id": "E9OsjoOAXsgS",
    "outputId": "b9e5d1c8-7085-4c81-8f95-e0fc06493cdd"
   },
   "outputs": [
    {
     "name": "stdout",
     "output_type": "stream",
     "text": [
      "Точность: 0.45038403660169846\n",
      "Полнота: 0.42860998962736263\n",
      "f-мера: 0.3594330204170384\n",
      "Доля правильных ответов: 0.41960670908039327\n"
     ]
    }
   ],
   "source": [
    "print('Точность:', precision_score(Y_test, y_pred, average='macro'))\n",
    "print('Полнота:', recall_score(Y_test, y_pred, average='macro'))\n",
    "print('f-мера:', f1_score(Y_test, y_pred, average='macro'))\n",
    "print('Доля правильных ответов:', accuracy_score(Y_test, y_pred));"
   ]
  },
  {
   "cell_type": "code",
   "execution_count": 40,
   "metadata": {
    "colab": {
     "base_uri": "https://localhost:8080/",
     "height": 314
    },
    "colab_type": "code",
    "id": "dj_qIz6BX4nK",
    "outputId": "c3cb0118-68d3-44ae-c9a4-dcff4dda47df"
   },
   "outputs": [
    {
     "name": "stdout",
     "output_type": "stream",
     "text": [
      "Confusion matrix, without normalization\n"
     ]
    },
    {
     "data": {
      "image/png": "[encoded data removed]",
      "text/plain": [
       "<Figure size 432x288 with 2 Axes>"
      ]
     },
     "metadata": {
      "tags": []
     },
     "output_type": "display_data"
    }
   ],
   "source": [
    "plot_confusion_matrix(Y_test, y_pred, classes=['mil', 'mchsgov', 'russianpost', 'mospolice'], normalize=False,\n",
    "                      title='Confusion matrix');\n",
    "plt.show()"
   ]
  },
  {
   "cell_type": "markdown",
   "metadata": {},
   "source": [
    "### В этом случае результаты совсем неважные."
   ]
  },
  {
   "cell_type": "markdown",
   "metadata": {},
   "source": [
    "### Как видно, лучше всего себя показала модель  Kim et al (2014)."
   ]
  },
  {
   "cell_type": "code",
   "execution_count": null,
   "metadata": {},
   "outputs": [],
   "source": []
  }
 ],
 "metadata": {
  "accelerator": "GPU",
  "colab": {
   "collapsed_sections": [
    "E7ME-ag0hoDA",
    "e2EnN-U7MemU",
    "9yCVYfbpNhXd",
    "22tJKQnaOjie",
    "I4m1rDQ3PAqO",
    "7vVPaaVwPVwg",
    "cdakRHahQp-l",
    "-b00dAl7kJMz",
    "wWMyfIkAkPP9",
    "rpEuEF21kdML",
    "uyVQ5Gm7Qzcz",
    "Xl-bfmQJ0iqB"
   ],
   "name": "Ivanov_Artyom_homework.ipynb",
   "provenance": [],
   "toc_visible": true,
   "version": "0.3.2"
  },
  "kernelspec": {
   "display_name": "Python 3",
   "language": "python",
   "name": "python3"
  },
  "language_info": {
   "codemirror_mode": {
    "name": "ipython",
    "version": 3
   },
   "file_extension": ".py",
   "mimetype": "text/x-python",
   "name": "python",
   "nbconvert_exporter": "python",
   "pygments_lexer": "ipython3",
   "version": "3.6.5"
  }
 },
 "nbformat": 4,
 "nbformat_minor": 1
}
